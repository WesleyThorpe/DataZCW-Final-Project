{
 "cells": [
  {
   "cell_type": "code",
   "execution_count": 1,
   "id": "e19eca24",
   "metadata": {},
   "outputs": [],
   "source": [
    "import requests\n"
   ]
  },
  {
   "cell_type": "code",
   "execution_count": 3,
   "id": "5a280005",
   "metadata": {},
   "outputs": [],
   "source": [
    "result = requests.get ('https://api.themoviedb.org/3/search/keyword?api_key=3fcdf7812ded2ec328589bdd3e923933&query=boxing')"
   ]
  },
  {
   "cell_type": "code",
   "execution_count": 4,
   "id": "f43ed280",
   "metadata": {},
   "outputs": [
    {
     "data": {
      "text/plain": [
       "200"
      ]
     },
     "execution_count": 4,
     "metadata": {},
     "output_type": "execute_result"
    }
   ],
   "source": [
    "result.status_code"
   ]
  },
  {
   "cell_type": "code",
   "execution_count": 5,
   "id": "045593f6",
   "metadata": {},
   "outputs": [
    {
     "data": {
      "text/plain": [
       "'{\"page\":1,\"results\":[{\"name\":\"bare knuckle boxing\",\"id\":397},{\"name\":\"boxing school\",\"id\":5402},{\"name\":\"kick boxing\",\"id\":10515},{\"name\":\"boxing promoter\",\"id\":155840},{\"name\":\"boxing trainer\",\"id\":156330},{\"name\":\"shadow boxing\",\"id\":174117},{\"name\":\"boxing day\",\"id\":188374},{\"name\":\"female boxing\",\"id\":198585},{\"name\":\"boxing\",\"id\":209476},{\"name\":\"thai boxing\",\"id\":210531},{\"name\":\"boxing manager\",\"id\":229298},{\"name\":\"illegal boxing\",\"id\":240611},{\"name\":\"boxing champion\",\"id\":245031},{\"name\":\"boxing ring\",\"id\":249834},{\"name\":\"metallic boxing\",\"id\":260617},{\"name\":\"hung boxing\",\"id\":260881},{\"name\":\"fight boxing\",\"id\":280903},{\"name\":\"fitness boxing\",\"id\":284305}],\"total_pages\":1,\"total_results\":18}'"
      ]
     },
     "execution_count": 5,
     "metadata": {},
     "output_type": "execute_result"
    }
   ],
   "source": [
    "result.text"
   ]
  },
  {
   "cell_type": "code",
   "execution_count": 7,
   "id": "34e2f77c",
   "metadata": {},
   "outputs": [
    {
     "data": {
      "text/plain": [
       "{'page': 1,\n",
       " 'results': [{'name': 'bare knuckle boxing', 'id': 397},\n",
       "  {'name': 'boxing school', 'id': 5402},\n",
       "  {'name': 'kick boxing', 'id': 10515},\n",
       "  {'name': 'boxing promoter', 'id': 155840},\n",
       "  {'name': 'boxing trainer', 'id': 156330},\n",
       "  {'name': 'shadow boxing', 'id': 174117},\n",
       "  {'name': 'boxing day', 'id': 188374},\n",
       "  {'name': 'female boxing', 'id': 198585},\n",
       "  {'name': 'boxing', 'id': 209476},\n",
       "  {'name': 'thai boxing', 'id': 210531},\n",
       "  {'name': 'boxing manager', 'id': 229298},\n",
       "  {'name': 'illegal boxing', 'id': 240611},\n",
       "  {'name': 'boxing champion', 'id': 245031},\n",
       "  {'name': 'boxing ring', 'id': 249834},\n",
       "  {'name': 'metallic boxing', 'id': 260617},\n",
       "  {'name': 'hung boxing', 'id': 260881},\n",
       "  {'name': 'fight boxing', 'id': 280903},\n",
       "  {'name': 'fitness boxing', 'id': 284305}],\n",
       " 'total_pages': 1,\n",
       " 'total_results': 18}"
      ]
     },
     "execution_count": 7,
     "metadata": {},
     "output_type": "execute_result"
    }
   ],
   "source": [
    "result.json()"
   ]
  },
  {
   "cell_type": "code",
   "execution_count": null,
   "id": "afda5ebf",
   "metadata": {},
   "outputs": [],
   "source": []
  }
 ],
 "metadata": {
  "kernelspec": {
   "display_name": "Python 3",
   "language": "python",
   "name": "python3"
  },
  "language_info": {
   "codemirror_mode": {
    "name": "ipython",
    "version": 3
   },
   "file_extension": ".py",
   "mimetype": "text/x-python",
   "name": "python",
   "nbconvert_exporter": "python",
   "pygments_lexer": "ipython3",
   "version": "3.8.8"
  }
 },
 "nbformat": 4,
 "nbformat_minor": 5
}
